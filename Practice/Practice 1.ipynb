{
  "nbformat": 4,
  "nbformat_minor": 0,
  "metadata": {
    "colab": {
      "provenance": []
    },
    "kernelspec": {
      "name": "python3",
      "display_name": "Python 3"
    },
    "language_info": {
      "name": "python"
    }
  },
  "cells": [
    {
      "cell_type": "markdown",
      "source": [
        "# Практические задания к теме №1: \"Введение в анализ данных. Операции над векторами и матрицами в NumPy\""
      ],
      "metadata": {
        "id": "v9P3tPlXolmp"
      }
    },
    {
      "cell_type": "markdown",
      "source": [
        "## Возможности модуля numpy"
      ],
      "metadata": {
        "id": "Ud27H0oHoyEx"
      }
    },
    {
      "cell_type": "code",
      "source": [
        "import numpy as np"
      ],
      "metadata": {
        "id": "6RkcblgJp2bw"
      },
      "execution_count": null,
      "outputs": []
    },
    {
      "cell_type": "markdown",
      "source": [
        "### Задание 1"
      ],
      "metadata": {
        "id": "TQfSXsmlo4Ln"
      }
    },
    {
      "cell_type": "markdown",
      "source": [
        "Создать двумерный массив 3x3 со значениями от 0 до 8"
      ],
      "metadata": {
        "id": "mKxIagUIo7IM"
      }
    },
    {
      "cell_type": "code",
      "source": [
        "array_2d = np.arange(9).reshape((3, 3))\n",
        "array_2d"
      ],
      "metadata": {
        "id": "00gcvbnJpa5x",
        "colab": {
          "base_uri": "https://localhost:8080/"
        },
        "outputId": "1ae789f3-65d3-41db-b2f3-026cf7acc87a"
      },
      "execution_count": null,
      "outputs": [
        {
          "output_type": "execute_result",
          "data": {
            "text/plain": [
              "array([[0, 1, 2],\n",
              "       [3, 4, 5],\n",
              "       [6, 7, 8]])"
            ]
          },
          "metadata": {},
          "execution_count": 4
        }
      ]
    },
    {
      "cell_type": "markdown",
      "source": [
        "### Задание 2"
      ],
      "metadata": {
        "id": "2MP0TfwPqSwD"
      }
    },
    {
      "cell_type": "markdown",
      "source": [
        "Создать случайный вектор размера 10 и найти среднее значение всех элементов. Задать значение seed как 42.\n",
        "\n"
      ],
      "metadata": {
        "id": "lRIbV2i-pu99"
      }
    },
    {
      "cell_type": "code",
      "source": [
        "# Установка seed для воспроизведения результатов\n",
        "np.random.seed(42)\n",
        "\n",
        "# Создание случайного вектора размера 10\n",
        "random_vector = np.random.rand(10)\n",
        "\n",
        "# Нахождение среднего значения всех элементов\n",
        "mean_value = np.mean(random_vector)\n",
        "\n",
        "# Выведем полученный выше случайный вектор\n",
        "random_vector"
      ],
      "metadata": {
        "id": "onA5jZarp6gG",
        "colab": {
          "base_uri": "https://localhost:8080/"
        },
        "outputId": "e5ec9c65-d2c3-47c5-e62f-a8d2c6e47438"
      },
      "execution_count": null,
      "outputs": [
        {
          "output_type": "execute_result",
          "data": {
            "text/plain": [
              "array([0.37454012, 0.95071431, 0.73199394, 0.59865848, 0.15601864,\n",
              "       0.15599452, 0.05808361, 0.86617615, 0.60111501, 0.70807258])"
            ]
          },
          "metadata": {},
          "execution_count": 5
        }
      ]
    },
    {
      "cell_type": "code",
      "source": [
        "# Выведем среднее значение\n",
        "mean_value"
      ],
      "metadata": {
        "colab": {
          "base_uri": "https://localhost:8080/"
        },
        "id": "e6fJruLrZHLp",
        "outputId": "1035cb1e-b6b1-415b-f6b5-72531a791965"
      },
      "execution_count": null,
      "outputs": [
        {
          "output_type": "execute_result",
          "data": {
            "text/plain": [
              "0.5201367359526748"
            ]
          },
          "metadata": {},
          "execution_count": 6
        }
      ]
    },
    {
      "cell_type": "markdown",
      "source": [
        "## Операции над векторами и матрицами в NumPy"
      ],
      "metadata": {
        "id": "i-X4V7LCqbBU"
      }
    },
    {
      "cell_type": "markdown",
      "source": [
        "### Задание 1"
      ],
      "metadata": {
        "id": "rCMvmU2cqluO"
      }
    },
    {
      "cell_type": "markdown",
      "source": [
        "Создать вектор размера 5 со значениями от 0 до 1, включая оба значения.\n"
      ],
      "metadata": {
        "id": "1PwzqcGDqoVj"
      }
    },
    {
      "cell_type": "code",
      "source": [
        "# Выведем 5 значений с равным промежутком между ними\n",
        "vector = np.linspace(0, 1, 5)\n",
        "vector"
      ],
      "metadata": {
        "id": "ccAqayadqlHE",
        "colab": {
          "base_uri": "https://localhost:8080/"
        },
        "outputId": "d929b808-8e3a-4424-9682-6daad8943fea"
      },
      "execution_count": null,
      "outputs": [
        {
          "output_type": "execute_result",
          "data": {
            "text/plain": [
              "array([0.  , 0.25, 0.5 , 0.75, 1.  ])"
            ]
          },
          "metadata": {},
          "execution_count": 5
        }
      ]
    },
    {
      "cell_type": "markdown",
      "source": [
        "### Задание 2"
      ],
      "metadata": {
        "id": "25SwXbkyrUGp"
      }
    },
    {
      "cell_type": "markdown",
      "source": [
        "Преобразовать произвольный массив из float в int."
      ],
      "metadata": {
        "id": "OoWYvzFTrV_b"
      }
    },
    {
      "cell_type": "code",
      "source": [
        "# Произвольный массив float\n",
        "float_array = np.array([1.5, 2.7, 3.2, 4.8, 5.1])\n",
        "\n",
        "# Преобразование в int\n",
        "int_array = float_array.astype(int)\n",
        "\n",
        "print(float_array)"
      ],
      "metadata": {
        "id": "JK_yvmogrsIm",
        "colab": {
          "base_uri": "https://localhost:8080/"
        },
        "outputId": "9d1aa25b-333e-49fd-93b5-7f0404cdce7b"
      },
      "execution_count": null,
      "outputs": [
        {
          "output_type": "stream",
          "name": "stdout",
          "text": [
            "[1.5 2.7 3.2 4.8 5.1]\n"
          ]
        }
      ]
    },
    {
      "cell_type": "code",
      "source": [
        "print(int_array)"
      ],
      "metadata": {
        "colab": {
          "base_uri": "https://localhost:8080/"
        },
        "id": "vyDtF9JKcKxV",
        "outputId": "6b085d05-3067-40c5-c817-aa42e6078738"
      },
      "execution_count": null,
      "outputs": [
        {
          "output_type": "stream",
          "name": "stdout",
          "text": [
            "[1 2 3 4 5]\n"
          ]
        }
      ]
    },
    {
      "cell_type": "markdown",
      "source": [
        "## Индексация в массивах"
      ],
      "metadata": {
        "id": "Z822Dqs7sCQx"
      }
    },
    {
      "cell_type": "markdown",
      "source": [
        "### Задание 1"
      ],
      "metadata": {
        "id": "2nuqmSNEsHqN"
      }
    },
    {
      "cell_type": "markdown",
      "source": [
        "Поменять 2 строки в произвольном массиве"
      ],
      "metadata": {
        "id": "bqJcbdXksJ7l"
      }
    },
    {
      "cell_type": "code",
      "source": [
        "# Создание произвольного двумерного массива\n",
        "array = np.array([[1, 2, 3],\n",
        "                  [4, 5, 6],\n",
        "                  [7, 8, 9]])\n",
        "\n",
        "# Поменять местами строки 1 и 2\n",
        "array[1], array[2] = array[2].copy(), array[1].copy()\n",
        "print(array)"
      ],
      "metadata": {
        "id": "7XYHTh-osbFv",
        "colab": {
          "base_uri": "https://localhost:8080/"
        },
        "outputId": "2744fc49-36aa-4ca1-d3b8-39fc7c173aa4"
      },
      "execution_count": null,
      "outputs": [
        {
          "output_type": "stream",
          "name": "stdout",
          "text": [
            "[[1 2 3]\n",
            " [7 8 9]\n",
            " [4 5 6]]\n"
          ]
        }
      ]
    },
    {
      "cell_type": "markdown",
      "source": [
        "### Задание 2"
      ],
      "metadata": {
        "id": "SkAIqc4Nsjlw"
      }
    },
    {
      "cell_type": "markdown",
      "source": [
        "Создать массив 9х9, в котором все значения равны 1, кроме тех, которые находятся по краям, они должны быть равны 0 (\"рамка из нулей\")"
      ],
      "metadata": {
        "id": "HqeiaEY7sk98"
      }
    },
    {
      "cell_type": "code",
      "source": [
        "# Создание массива 9x9, заполненного единицами\n",
        "array = np.ones((9, 9), dtype=int)\n",
        "\n",
        "# Установка значений по краям равными 0\n",
        "array[:, [0, -1]] = 0  # Установка значений в первом и последнем столбце\n",
        "array[[0, -1], :] = 0  # Установка значений в первой и последней строке\n",
        "print(array)"
      ],
      "metadata": {
        "id": "l4rNy8n-tLt9",
        "colab": {
          "base_uri": "https://localhost:8080/"
        },
        "outputId": "c6f1abc9-f226-4ad6-abf2-b334d10d485b"
      },
      "execution_count": null,
      "outputs": [
        {
          "output_type": "stream",
          "name": "stdout",
          "text": [
            "[[0 0 0 0 0 0 0 0 0]\n",
            " [0 1 1 1 1 1 1 1 0]\n",
            " [0 1 1 1 1 1 1 1 0]\n",
            " [0 1 1 1 1 1 1 1 0]\n",
            " [0 1 1 1 1 1 1 1 0]\n",
            " [0 1 1 1 1 1 1 1 0]\n",
            " [0 1 1 1 1 1 1 1 0]\n",
            " [0 1 1 1 1 1 1 1 0]\n",
            " [0 0 0 0 0 0 0 0 0]]\n"
          ]
        }
      ]
    }
  ]
}