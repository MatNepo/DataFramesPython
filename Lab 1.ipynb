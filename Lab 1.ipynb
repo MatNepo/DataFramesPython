{
  "nbformat": 4,
  "nbformat_minor": 0,
  "metadata": {
    "colab": {
      "provenance": []
    },
    "kernelspec": {
      "name": "python3",
      "display_name": "Python 3"
    },
    "language_info": {
      "name": "python"
    }
  },
  "cells": [
    {
      "cell_type": "markdown",
      "source": [
        "# Лабораторная работа по теме: \"Введение в анализ данных. Операции над векторами и матрицами в NumPy\""
      ],
      "metadata": {
        "id": "vr3PzzdntpPb"
      }
    },
    {
      "cell_type": "code",
      "source": [
        "import numpy as np"
      ],
      "metadata": {
        "id": "RkrkxAzot4xl"
      },
      "execution_count": null,
      "outputs": []
    },
    {
      "cell_type": "markdown",
      "source": [
        "### Задание 1"
      ],
      "metadata": {
        "id": "5QjKGbeztz9i"
      }
    },
    {
      "cell_type": "markdown",
      "source": [
        "**Условие**: Создать 12x12 единичную матрицу (с единицами по диагонали)"
      ],
      "metadata": {
        "id": "itspkMvKuCj4"
      }
    },
    {
      "cell_type": "markdown",
      "source": [
        "1) Выполним задание так, как мы выполняли бы его без использования модуля `NumPy` и выведем время, затраченное на выполнение, введя в начале програмного кода команду `%%timeit`:"
      ],
      "metadata": {
        "id": "KyTlbHSDPnwg"
      }
    },
    {
      "cell_type": "code",
      "source": [
        "%%timeit\n",
        "# Создаем 12x12 единичную матрицу\n",
        "matrix = []\n",
        "matrix_size = 12\n",
        "\n",
        "\n",
        "for i in range(matrix_size):\n",
        "    row = []\n",
        "    for j in range(matrix_size):\n",
        "        if i == j:\n",
        "            row.append(1)\n",
        "        else:\n",
        "            row.append(0)\n",
        "    matrix.append(row)\n",
        "\n",
        "matrix"
      ],
      "metadata": {
        "colab": {
          "base_uri": "https://localhost:8080/"
        },
        "id": "An3oWlmft1ne",
        "outputId": "acc90580-74ea-4fe6-9417-a50ed22e9fa8"
      },
      "execution_count": null,
      "outputs": [
        {
          "output_type": "stream",
          "name": "stdout",
          "text": [
            "18.7 µs ± 2.69 µs per loop (mean ± std. dev. of 7 runs, 100000 loops each)\n"
          ]
        }
      ]
    },
    {
      "cell_type": "markdown",
      "source": [
        "*такой вариант решения возможен, однако, он занимает слишком много времени компиляции"
      ],
      "metadata": {
        "id": "fsDSdkhCUGIk"
      }
    },
    {
      "cell_type": "markdown",
      "source": [
        "2) Воспользуемся модулем `NumPy`:"
      ],
      "metadata": {
        "id": "F6JLy582UDuK"
      }
    },
    {
      "cell_type": "code",
      "source": [
        "%%timeit\n",
        "matrix = np.zeros((12, 12), dtype=int)  # Создаем матрицу из нулей\n",
        "for i in range(12):\n",
        "    matrix[i, i] = 1  # Устанавливаем единицы по диагонали"
      ],
      "metadata": {
        "colab": {
          "base_uri": "https://localhost:8080/"
        },
        "id": "qgYC6jtgUXu_",
        "outputId": "a3545aa9-2971-4960-a76d-20fadc3a46f3"
      },
      "execution_count": null,
      "outputs": [
        {
          "output_type": "stream",
          "name": "stdout",
          "text": [
            "2.99 µs ± 405 ns per loop (mean ± std. dev. of 7 runs, 100000 loops each)\n"
          ]
        }
      ]
    },
    {
      "cell_type": "code",
      "source": [
        "matrix"
      ],
      "metadata": {
        "colab": {
          "base_uri": "https://localhost:8080/"
        },
        "id": "nhPUzD4Ce207",
        "outputId": "433df16e-7fba-4f0f-dfa7-9cde335c18c0"
      },
      "execution_count": null,
      "outputs": [
        {
          "output_type": "execute_result",
          "data": {
            "text/plain": [
              "[[1, 0, 0, 0, 0, 0, 0, 0, 0, 0, 0, 0],\n",
              " [0, 1, 0, 0, 0, 0, 0, 0, 0, 0, 0, 0],\n",
              " [0, 0, 1, 0, 0, 0, 0, 0, 0, 0, 0, 0],\n",
              " [0, 0, 0, 1, 0, 0, 0, 0, 0, 0, 0, 0],\n",
              " [0, 0, 0, 0, 1, 0, 0, 0, 0, 0, 0, 0],\n",
              " [0, 0, 0, 0, 0, 1, 0, 0, 0, 0, 0, 0],\n",
              " [0, 0, 0, 0, 0, 0, 1, 0, 0, 0, 0, 0],\n",
              " [0, 0, 0, 0, 0, 0, 0, 1, 0, 0, 0, 0],\n",
              " [0, 0, 0, 0, 0, 0, 0, 0, 1, 0, 0, 0],\n",
              " [0, 0, 0, 0, 0, 0, 0, 0, 0, 1, 0, 0],\n",
              " [0, 0, 0, 0, 0, 0, 0, 0, 0, 0, 1, 0],\n",
              " [0, 0, 0, 0, 0, 0, 0, 0, 0, 0, 0, 1]]"
            ]
          },
          "metadata": {},
          "execution_count": 17
        }
      ]
    },
    {
      "cell_type": "markdown",
      "source": [
        "3) Теперь в качестве реализации воспользуемся модулем `NumPy`, взяв за основу метод `np.eye`, который создаёт прямоугольную таблицу. Он выглядит следующим образом:\n",
        "```\n",
        "np.eye(N, M=None, k=0, dtype=float)\n",
        "```\n",
        "Здесь:\n",
        "\n",
        "* N: количество строк (и столбцов) в матрице.\n",
        "\n",
        "* M: (по умолчанию M=None) количество столбцов в матрице. Если не указано, то M принимает значение N.\n",
        "\n",
        "* k: (по умолчанию k=0) смещение главной диагонали. Положительные значения смещают диагональ вверх, отрицательные - вниз.\n",
        "\n",
        "* dtype: тип данных элементов в матрице."
      ],
      "metadata": {
        "id": "ybz2q21FRE3d"
      }
    },
    {
      "cell_type": "code",
      "source": [
        "%%timeit\n",
        "matrix = np.eye(12)\n",
        "dtype = int # по умолчанию используется float и числа будут выводиться с точкой"
      ],
      "metadata": {
        "colab": {
          "base_uri": "https://localhost:8080/"
        },
        "id": "P5CDEqlDRBrj",
        "outputId": "4a11804a-4ae2-46c3-89c0-7f0a843cf817"
      },
      "execution_count": null,
      "outputs": [
        {
          "output_type": "stream",
          "name": "stdout",
          "text": [
            "2.23 µs ± 67.8 ns per loop (mean ± std. dev. of 7 runs, 100000 loops each)\n"
          ]
        }
      ]
    },
    {
      "cell_type": "code",
      "source": [
        "matrix"
      ],
      "metadata": {
        "colab": {
          "base_uri": "https://localhost:8080/"
        },
        "id": "EKy5z77ne9mv",
        "outputId": "29c8c382-2a8c-4cf1-be53-0d65510880bb"
      },
      "execution_count": null,
      "outputs": [
        {
          "output_type": "execute_result",
          "data": {
            "text/plain": [
              "[[1, 0, 0, 0, 0, 0, 0, 0, 0, 0, 0, 0],\n",
              " [0, 1, 0, 0, 0, 0, 0, 0, 0, 0, 0, 0],\n",
              " [0, 0, 1, 0, 0, 0, 0, 0, 0, 0, 0, 0],\n",
              " [0, 0, 0, 1, 0, 0, 0, 0, 0, 0, 0, 0],\n",
              " [0, 0, 0, 0, 1, 0, 0, 0, 0, 0, 0, 0],\n",
              " [0, 0, 0, 0, 0, 1, 0, 0, 0, 0, 0, 0],\n",
              " [0, 0, 0, 0, 0, 0, 1, 0, 0, 0, 0, 0],\n",
              " [0, 0, 0, 0, 0, 0, 0, 1, 0, 0, 0, 0],\n",
              " [0, 0, 0, 0, 0, 0, 0, 0, 1, 0, 0, 0],\n",
              " [0, 0, 0, 0, 0, 0, 0, 0, 0, 1, 0, 0],\n",
              " [0, 0, 0, 0, 0, 0, 0, 0, 0, 0, 1, 0],\n",
              " [0, 0, 0, 0, 0, 0, 0, 0, 0, 0, 0, 1]]"
            ]
          },
          "metadata": {},
          "execution_count": 19
        }
      ]
    },
    {
      "cell_type": "markdown",
      "source": [
        "4) Теперь решим задачу, воспользовавшись методом `identity`. Его отличие от `eye` заключается в том, что он предназначен для создания именно квадратных матриц. Этот метод выглядит следующим образом:\n",
        "```\n",
        "numpy.identity(n, dtype=None)\n",
        "```\n",
        "* n: размер квадратной матрицы (количество строк и столбцов).\n",
        "\n",
        "* dtype: тип данных элементов матрицы (по умолчанию None, что означает использование типа данных по умолчанию)."
      ],
      "metadata": {
        "id": "3nfuK-SzkT26"
      }
    },
    {
      "cell_type": "code",
      "source": [
        "%%timeit\n",
        "matrix = np.identity(12)"
      ],
      "metadata": {
        "colab": {
          "base_uri": "https://localhost:8080/"
        },
        "id": "jkyxrYEXT4ez",
        "outputId": "10f7cdbd-7ded-4926-dcd1-6f75d14daefc"
      },
      "execution_count": null,
      "outputs": [
        {
          "output_type": "stream",
          "name": "stdout",
          "text": [
            "3.18 µs ± 190 ns per loop (mean ± std. dev. of 7 runs, 100000 loops each)\n"
          ]
        }
      ]
    },
    {
      "cell_type": "code",
      "source": [
        "matrix"
      ],
      "metadata": {
        "colab": {
          "base_uri": "https://localhost:8080/"
        },
        "id": "xJ2a-kXtfIdI",
        "outputId": "a062e87c-1808-46a1-bea8-7fc3b3bf38a5"
      },
      "execution_count": null,
      "outputs": [
        {
          "output_type": "execute_result",
          "data": {
            "text/plain": [
              "[[1, 0, 0, 0, 0, 0, 0, 0, 0, 0, 0, 0],\n",
              " [0, 1, 0, 0, 0, 0, 0, 0, 0, 0, 0, 0],\n",
              " [0, 0, 1, 0, 0, 0, 0, 0, 0, 0, 0, 0],\n",
              " [0, 0, 0, 1, 0, 0, 0, 0, 0, 0, 0, 0],\n",
              " [0, 0, 0, 0, 1, 0, 0, 0, 0, 0, 0, 0],\n",
              " [0, 0, 0, 0, 0, 1, 0, 0, 0, 0, 0, 0],\n",
              " [0, 0, 0, 0, 0, 0, 1, 0, 0, 0, 0, 0],\n",
              " [0, 0, 0, 0, 0, 0, 0, 1, 0, 0, 0, 0],\n",
              " [0, 0, 0, 0, 0, 0, 0, 0, 1, 0, 0, 0],\n",
              " [0, 0, 0, 0, 0, 0, 0, 0, 0, 1, 0, 0],\n",
              " [0, 0, 0, 0, 0, 0, 0, 0, 0, 0, 1, 0],\n",
              " [0, 0, 0, 0, 0, 0, 0, 0, 0, 0, 0, 1]]"
            ]
          },
          "metadata": {},
          "execution_count": 21
        }
      ]
    },
    {
      "cell_type": "markdown",
      "source": [
        "Как видим, использование `NumPy` значительно ускоряет процесс работы, что поможет при созхдании больших проектов, где количесто фрагментов кода с вычислениями может достигать больших размеров"
      ],
      "metadata": {
        "id": "4vGEhewodZ4H"
      }
    },
    {
      "cell_type": "markdown",
      "source": [
        "### Задание 2 *"
      ],
      "metadata": {
        "id": "zgtjz7y7uY1H"
      }
    },
    {
      "cell_type": "markdown",
      "source": [
        "**Условие**: Создать 9x9 матрицу и заполнить её в шахматном порядке"
      ],
      "metadata": {
        "id": "S47Cmf05ye5a"
      }
    },
    {
      "cell_type": "markdown",
      "source": [
        "1) Стандартный вариант реализации через `NumPy`"
      ],
      "metadata": {
        "id": "_bPvGyn9osc_"
      }
    },
    {
      "cell_type": "code",
      "source": [
        "# Создаем матрицу 9x9, заполненную нулями\n",
        "chess_matrix = np.zeros((9, 9), dtype=int)\n",
        "\n",
        "# Заполняем матрицу в шахматном порядке\n",
        "chess_matrix[1::2, ::2] = 1  # Нечетные строки, четные столбцы\n",
        "chess_matrix[::2, 1::2] = 1  # Четные строки, нечетные столбцы\n",
        "\n",
        "chess_matrix"
      ],
      "metadata": {
        "colab": {
          "base_uri": "https://localhost:8080/"
        },
        "id": "FRZ2AujOyyKe",
        "outputId": "9db879e2-4293-416e-e63d-de18b3aeacd2"
      },
      "execution_count": null,
      "outputs": [
        {
          "output_type": "execute_result",
          "data": {
            "text/plain": [
              "array([[0, 1, 0, 1, 0, 1, 0, 1, 0],\n",
              "       [1, 0, 1, 0, 1, 0, 1, 0, 1],\n",
              "       [0, 1, 0, 1, 0, 1, 0, 1, 0],\n",
              "       [1, 0, 1, 0, 1, 0, 1, 0, 1],\n",
              "       [0, 1, 0, 1, 0, 1, 0, 1, 0],\n",
              "       [1, 0, 1, 0, 1, 0, 1, 0, 1],\n",
              "       [0, 1, 0, 1, 0, 1, 0, 1, 0],\n",
              "       [1, 0, 1, 0, 1, 0, 1, 0, 1],\n",
              "       [0, 1, 0, 1, 0, 1, 0, 1, 0]])"
            ]
          },
          "metadata": {},
          "execution_count": 42
        }
      ]
    },
    {
      "cell_type": "markdown",
      "source": [
        "Посмотрим количество времени, потраченное на выполнение задачи ланным способом:"
      ],
      "metadata": {
        "id": "Y5XKtzSOqZYm"
      }
    },
    {
      "cell_type": "code",
      "source": [
        "%%timeit\n",
        "chess_matrix = np.zeros((9, 9), dtype=int)\n",
        "\n",
        "chess_matrix[1::2, ::2] = 1\n",
        "chess_matrix[::2, 1::2] = 1"
      ],
      "metadata": {
        "colab": {
          "base_uri": "https://localhost:8080/"
        },
        "id": "WH6Fz9_qqh3q",
        "outputId": "b569fd26-4127-416e-964c-c10d9d7b484b"
      },
      "execution_count": null,
      "outputs": [
        {
          "output_type": "stream",
          "name": "stdout",
          "text": [
            "2.18 µs ± 545 ns per loop (mean ± std. dev. of 7 runs, 1000000 loops each)\n"
          ]
        }
      ]
    },
    {
      "cell_type": "markdown",
      "source": [
        "2) Релизация с использованием шаблонов"
      ],
      "metadata": {
        "id": "IlyUEQ2fo0RW"
      }
    },
    {
      "cell_type": "markdown",
      "source": [
        "При изучении `NumPy` нашёл достаточно интересный метод `np.tile`. Его особенность в том, что он создаёт массив, повторяя заданный шаблон по указанным осям. Выглядит он следующим образом:\n",
        "```\n",
        "numpy.tile(A, reps)\n",
        "\n",
        "```\n",
        "* A: Шаблон, который хотим повторить.\n",
        "* reps: Количество повторений по каждой из оригинальных осей. Это может быть целым числом или кортежем целых чисел, как в случае решения этой задачи."
      ],
      "metadata": {
        "id": "X9it2L6co-Dg"
      }
    },
    {
      "cell_type": "code",
      "source": [
        "matrix = np.tile([[0, 1], [1, 0]], (5, 5))\n",
        "\n",
        "matrix"
      ],
      "metadata": {
        "colab": {
          "base_uri": "https://localhost:8080/"
        },
        "id": "NTrDcwWfo9SH",
        "outputId": "2a0d8b3d-ac53-4084-9e40-180eea24ab1b"
      },
      "execution_count": null,
      "outputs": [
        {
          "output_type": "execute_result",
          "data": {
            "text/plain": [
              "array([[0, 1, 0, 1, 0, 1, 0, 1, 0, 1],\n",
              "       [1, 0, 1, 0, 1, 0, 1, 0, 1, 0],\n",
              "       [0, 1, 0, 1, 0, 1, 0, 1, 0, 1],\n",
              "       [1, 0, 1, 0, 1, 0, 1, 0, 1, 0],\n",
              "       [0, 1, 0, 1, 0, 1, 0, 1, 0, 1],\n",
              "       [1, 0, 1, 0, 1, 0, 1, 0, 1, 0],\n",
              "       [0, 1, 0, 1, 0, 1, 0, 1, 0, 1],\n",
              "       [1, 0, 1, 0, 1, 0, 1, 0, 1, 0],\n",
              "       [0, 1, 0, 1, 0, 1, 0, 1, 0, 1],\n",
              "       [1, 0, 1, 0, 1, 0, 1, 0, 1, 0]])"
            ]
          },
          "metadata": {},
          "execution_count": 39
        }
      ]
    },
    {
      "cell_type": "markdown",
      "source": [
        "Однако, у этого метода оказался один существенный минус - время компиляции, чтои может быть плохо при написании объёмного кода:"
      ],
      "metadata": {
        "id": "PY2kXNFlqvSk"
      }
    },
    {
      "cell_type": "code",
      "source": [
        "%%timeit\n",
        "matrix = np.tile([[0, 1], [1, 0]], (5, 5))"
      ],
      "metadata": {
        "colab": {
          "base_uri": "https://localhost:8080/"
        },
        "id": "BJ73TgbtqH8F",
        "outputId": "b2a93d48-1137-4af0-fd24-ea7c1c031a9c"
      },
      "execution_count": null,
      "outputs": [
        {
          "output_type": "stream",
          "name": "stdout",
          "text": [
            "6.22 µs ± 196 ns per loop (mean ± std. dev. of 7 runs, 100000 loops each)\n"
          ]
        }
      ]
    },
    {
      "cell_type": "markdown",
      "source": [
        "### Задание 3"
      ],
      "metadata": {
        "id": "V910eQBazBw-"
      }
    },
    {
      "cell_type": "markdown",
      "source": [
        "**Условие**: Отсортировать произвольный вектор в порядке возрастания."
      ],
      "metadata": {
        "id": "MrD-Vg_8zTcC"
      }
    },
    {
      "cell_type": "code",
      "source": [
        "# Создание произвольного вектора со значениями от 0 до 1\n",
        "np.random.seed(42) # Устанавливаем начальное состояние генератора случайных чисел\n",
        "vector = np.random.random(10)\n",
        "\n",
        "vector"
      ],
      "metadata": {
        "colab": {
          "base_uri": "https://localhost:8080/"
        },
        "id": "hobc_yIUzc2Y",
        "outputId": "b3663b15-a2b3-4f67-9312-f90d8982a664"
      },
      "execution_count": null,
      "outputs": [
        {
          "output_type": "execute_result",
          "data": {
            "text/plain": [
              "array([0.37454012, 0.95071431, 0.73199394, 0.59865848, 0.15601864,\n",
              "       0.15599452, 0.05808361, 0.86617615, 0.60111501, 0.70807258])"
            ]
          },
          "metadata": {},
          "execution_count": 116
        }
      ]
    },
    {
      "cell_type": "markdown",
      "source": [
        "*не очень понял зачем в коде, уоторый был указан в задании задавать `np.random.seed(42)`, если задание заключается в том, чтобы отсортировать произвольный вектор, в то время как `np.random.seed(42)` при каждом запуске программы будет производить одинаковую последовательность случайных чисел. РАзве что, для удобства проверки и отладки"
      ],
      "metadata": {
        "id": "IVBYXwjTshzr"
      }
    },
    {
      "cell_type": "markdown",
      "source": [
        "Для реализации воспольщзуемся методом `np.sort()`, который выглядит следующим образом:\n",
        "```\n",
        "numpy.sort(a, axis=-1, kind='quicksort', order=None)\n",
        "\n",
        "```\n",
        "* a: Входной массив для сортировки.\n",
        "* axis: Ось, по которой производится сортировка (по умолчанию -1, что означает сортировку по последней оси).\n",
        "* kind: Алгоритм сортировки. По умолчанию используется быстрая сортировка ('quicksort'), но также можно выбрать 'mergesort' или 'heapsort'.\n",
        "* order: Если входной массив состоит из структурных типов данных, вы можете указать поле (или последовательность полей), по которому будет производиться сортировка."
      ],
      "metadata": {
        "id": "c-9dG7LKtz_h"
      }
    },
    {
      "cell_type": "code",
      "source": [
        "sorted_vector = np.sort(vector)\n",
        "\n",
        "sorted_vector"
      ],
      "metadata": {
        "colab": {
          "base_uri": "https://localhost:8080/"
        },
        "id": "9f9O0avzshS0",
        "outputId": "41cfc50c-8cad-4f67-f01b-969bc2ed6970"
      },
      "execution_count": null,
      "outputs": [
        {
          "output_type": "execute_result",
          "data": {
            "text/plain": [
              "array([0.05808361, 0.15599452, 0.15601864, 0.37454012, 0.59865848,\n",
              "       0.60111501, 0.70807258, 0.73199394, 0.86617615, 0.95071431])"
            ]
          },
          "metadata": {},
          "execution_count": 68
        }
      ]
    },
    {
      "cell_type": "markdown",
      "source": [
        "### Задание 4"
      ],
      "metadata": {
        "id": "CcyFdU0QzpFm"
      }
    },
    {
      "cell_type": "markdown",
      "source": [
        "**Условие**: Определить есть ли в произвольном двумерном массиве из целых чисел строки, в которых все значения равны 4."
      ],
      "metadata": {
        "id": "yjVzk0XMzzX0"
      }
    },
    {
      "cell_type": "code",
      "source": [
        "min_value = 3\n",
        "max_value = 5\n",
        "colomns = 8\n",
        "rows = 3\n",
        "\n",
        "fourth_array = np.random.randint(min_value, max_value,(colomns, rows))\n",
        "\n",
        "fourth_array"
      ],
      "metadata": {
        "colab": {
          "base_uri": "https://localhost:8080/"
        },
        "id": "E6kZxQvT0fp6",
        "outputId": "564b4d2f-243e-47aa-d654-adf1deaa1729"
      },
      "execution_count": null,
      "outputs": [
        {
          "output_type": "execute_result",
          "data": {
            "text/plain": [
              "array([[3, 4, 3],\n",
              "       [4, 4, 4],\n",
              "       [3, 4, 3],\n",
              "       [4, 3, 4],\n",
              "       [3, 3, 4],\n",
              "       [3, 4, 4],\n",
              "       [4, 4, 4],\n",
              "       [4, 4, 4]])"
            ]
          },
          "metadata": {},
          "execution_count": 89
        }
      ]
    },
    {
      "cell_type": "markdown",
      "source": [
        "Воспользуемся методом `np.all`, который будет применяться по оси 1, т. е. производить поиск по строкам (`axis=1`) и принимать значение True только в том случае, если все элементы этой оси (строки) равны 4. Поместим эту конструкцию дополнительно в метод `np.where`, который выведет индексы строк, в которых было получено True (нумерацию индексов строк установил начиная с 1 для удобства)"
      ],
      "metadata": {
        "id": "rOI3b0Axzx2y"
      }
    },
    {
      "cell_type": "code",
      "source": [
        "# Определяим индексы строк, где все значения равны 4\n",
        "matching_rows_indices = np.where(np.all(fourth_array == 4, axis=1))[0]\n",
        "\n",
        "# Выведем индексы строк\n",
        "if matching_rows_indices.size > 0:\n",
        "    print(\"Индексы строк, в которых все значения равны 4:\")\n",
        "    print(matching_rows_indices+1) # выводим индексы строк с True начиная с 1\n",
        "else:\n",
        "    print(\"Нет строк, в которых все значения равны 4.\")"
      ],
      "metadata": {
        "colab": {
          "base_uri": "https://localhost:8080/"
        },
        "id": "H7FnttCrwXq7",
        "outputId": "79e8141a-b41c-496c-bce8-5a5526269565"
      },
      "execution_count": null,
      "outputs": [
        {
          "output_type": "stream",
          "name": "stdout",
          "text": [
            "Индексы строк, в которых все значения равны 4:\n",
            "[2 7 8]\n"
          ]
        }
      ]
    },
    {
      "cell_type": "markdown",
      "source": [
        "### Задание 5"
      ],
      "metadata": {
        "id": "P4jYtxo41foh"
      }
    },
    {
      "cell_type": "markdown",
      "source": [
        "**Условие**: Создайте массив из 6 элементов, 5 из которых равны 0, последний элемент должен быть равен 1"
      ],
      "metadata": {
        "id": "S_rvQzi31tAr"
      }
    },
    {
      "cell_type": "markdown",
      "source": [
        "При реализации воспользуемся возможностью NumPy обращаться к последнему элементу массива, вводя в качестве торого индекса `array[-1]`:"
      ],
      "metadata": {
        "id": "yIPZ7A9Q1be-"
      }
    },
    {
      "cell_type": "code",
      "source": [
        "import numpy as np\n",
        "\n",
        "# Создаем массив из 6 элементов\n",
        "my_array = np.zeros(6, dtype = int)\n",
        "\n",
        "# Устанавливаем последний элемент равным 1\n",
        "my_array[-1] = 1\n",
        "\n",
        "my_array"
      ],
      "metadata": {
        "colab": {
          "base_uri": "https://localhost:8080/"
        },
        "id": "vZT1HXr52b7R",
        "outputId": "e56123a3-6def-4181-f303-8b054d3e9ab1"
      },
      "execution_count": null,
      "outputs": [
        {
          "output_type": "execute_result",
          "data": {
            "text/plain": [
              "array([0, 0, 0, 0, 0, 1])"
            ]
          },
          "metadata": {},
          "execution_count": 94
        }
      ]
    },
    {
      "cell_type": "markdown",
      "source": [
        "### Задание 6"
      ],
      "metadata": {
        "id": "TL-1Heta2skE"
      }
    },
    {
      "cell_type": "markdown",
      "source": [
        "**Условие**: Укажите индекс 9 элемента в массиве 2х3х2"
      ],
      "metadata": {
        "id": "cqnd5VUV24zl"
      }
    },
    {
      "cell_type": "markdown",
      "source": [
        "Создадим трёхмерный массив размером 2x3x2, котрый будет заполнен числами типа int со значениеми от 0 до 9:"
      ],
      "metadata": {
        "id": "_zHJqNjy3Q7R"
      }
    },
    {
      "cell_type": "code",
      "source": [
        "my_array = np.random.randint(0, 10, size=(2, 3, 2))\n",
        "my_array"
      ],
      "metadata": {
        "colab": {
          "base_uri": "https://localhost:8080/"
        },
        "id": "wdAMlC8u3S3r",
        "outputId": "e511c935-0e8c-4cb7-eeef-239b4f48e76d"
      },
      "execution_count": null,
      "outputs": [
        {
          "output_type": "execute_result",
          "data": {
            "text/plain": [
              "array([[[5, 6],\n",
              "        [4, 0],\n",
              "        [0, 2]],\n",
              "\n",
              "       [[1, 4],\n",
              "        [9, 5],\n",
              "        [6, 3]]])"
            ]
          },
          "metadata": {},
          "execution_count": 110
        }
      ]
    },
    {
      "cell_type": "markdown",
      "source": [
        "Для того, чтобы вывести индекс 9го элемента массива воспользуемся методом `np.unravel_index()`, который преобразует линейные индексы или массив линейных индексов в индексы соответствующих элементов в многомерном массиве:\n",
        "```\n",
        "np.unravel_index(indices, shape, order='C')\n",
        "```\n",
        "* indices: Линейные индексы (или массив линейных индексов), которые нужно преобразовать.\n",
        "* shape: Форма (размеры) многомерного массива, в котором нужно найти линейные индексы (вывод индексов с помощью картежа).\n",
        "* order: Порядок интерпретации индексов. 'C' для использования порядка C (по умолчанию), 'F' для использования порядка Fortran."
      ],
      "metadata": {
        "id": "wxmn6ak44lKx"
      }
    },
    {
      "cell_type": "code",
      "source": [
        "value = my_array.flat[9]\n",
        "indices = np.unravel_index(9, my_array.shape)\n",
        "\n",
        "print(\"Значение 9-го элемента:\", value)\n",
        "print(\"Индексы 9-го элемента:\", indices)"
      ],
      "metadata": {
        "colab": {
          "base_uri": "https://localhost:8080/"
        },
        "id": "fxE_VcVO4H2A",
        "outputId": "a304bb01-5530-4066-c795-7b6a3216d84e"
      },
      "execution_count": null,
      "outputs": [
        {
          "output_type": "stream",
          "name": "stdout",
          "text": [
            "Значение 9-го элемента: 5\n",
            "Индексы 9-го элемента: (1, 1, 1)\n"
          ]
        }
      ]
    }
  ]
}